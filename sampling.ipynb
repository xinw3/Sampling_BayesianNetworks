{
 "cells": [
  {
   "cell_type": "code",
   "execution_count": 9,
   "metadata": {
    "collapsed": false
   },
   "outputs": [
    {
     "data": {
      "text/html": [
       "<img src=\"http://upload.wikimedia.org/wikipedia/commons/0/0e/SimpleBayesNet.svg\"/>"
      ],
      "text/plain": [
       "<IPython.core.display.Image object>"
      ]
     },
     "execution_count": 9,
     "metadata": {},
     "output_type": "execute_result"
    }
   ],
   "source": [
    "\n",
    "\n",
    "from IPython.display import Image\n",
    "Image(url='http://upload.wikimedia.org/wikipedia/commons/0/0e/SimpleBayesNet.svg')"
   ]
  },
  {
   "cell_type": "code",
   "execution_count": 18,
   "metadata": {
    "collapsed": false
   },
   "outputs": [
    {
     "name": "stdout",
     "output_type": "stream",
     "text": [
      "+-----+----------+\n",
      "| C   |   phi(C) |\n",
      "|-----+----------|\n",
      "| C_0 |   0.1599 |\n",
      "| C_1 |   0.8401 |\n",
      "+-----+----------+\n",
      "   T  O  C  H  E  G\n",
      "0  0  1  0  1  1  1\n",
      "1  1  1  1  0  1  1\n",
      "2  1  1  1  1  1  1\n",
      "3  1  1  1  1  1  1\n",
      "4  1  1  1  1  1  1\n",
      "5  1  1  0  0  1  1\n",
      "6  1  1  1  1  1  1\n",
      "7  0  1  1  1  1  1\n",
      "8  1  1  1  1  1  1\n",
      "9  1  1  1  1  0  1\n"
     ]
    },
    {
     "data": {
      "image/png": "[encoded data removed]",
      "text/plain": [
       "<matplotlib.figure.Figure at 0x1120afb50>"
      ]
     },
     "metadata": {},
     "output_type": "display_data"
    }
   ],
   "source": [
    "from pgmpy.models import BayesianModel\n",
    "from pgmpy.factors.discrete import TabularCPD\n",
    "from pgmpy.factors.discrete import State\n",
    "from pgmpy.inference import VariableElimination\n",
    "from pgmpy.sampling import BayesianModelSampling\n",
    "import matplotlib.pyplot as plt\n",
    "\n",
    "model = BayesianModel([('O', 'E'), ('T', 'E'), ('C', 'E'), ('C', 'H'), ('E', 'G'), ('H', 'G')])\n",
    "\n",
    "# Defining individual CPDs.\n",
    "cpd_t = TabularCPD(variable='T', variable_card=2, values=[[0.45, 0.55]])\n",
    "cpd_c = TabularCPD(variable='C', variable_card=2, values=[[0.2, 0.8]])\n",
    "cpd_o = TabularCPD(variable='O', variable_card=2, values=[[0.7, 0.3]])\n",
    "\n",
    "# print(cpd_t)\n",
    "# print(cpd_c)\n",
    "# print(cpd_o)\n",
    "\n",
    "cpd_e = TabularCPD(variable='E', variable_card=2, \n",
    "                   values=[[0.85, 0.8, 0.4,  0.3, 0.6, 0.5, 0.15, 0.1],\n",
    "                           [0.15, 0.2, 0.6, 0.7, 0.4, 0.5, 0.85, 0.9]],\n",
    "                  evidence=['T', 'C', 'O'],\n",
    "                  evidence_card=[2, 2, 2])\n",
    "# print(cpd_e)\n",
    "\n",
    "cpd_h = TabularCPD(variable='H', variable_card=2, \n",
    "                   values=[[0.75, 0.2],\n",
    "                           [0.25, 0.8]],\n",
    "                   evidence=['C'],\n",
    "                   evidence_card=[2])\n",
    "\n",
    "cpd_g = TabularCPD(variable='G', variable_card=5,\n",
    "                   values=[[0.05, 0.1, 0.1, 0.6],\n",
    "                           [0.05, 0.3, 0.3, 0.2],\n",
    "                           [0.1, 0.3, 0.3, 0.1],\n",
    "                           [0.2, 0.2, 0.2, 0.05],\n",
    "                           [0.6, 0.1, 0.1, 0.05]],\n",
    "                   evidence=['E', 'H'],\n",
    "                   evidence_card=[2, 2])\n",
    "\n",
    "# print(cpd_h)\n",
    "# print(cpd_g)\n",
    "\n",
    "# Associating the CPDs with the network\n",
    "model.add_cpds(cpd_t, cpd_c, cpd_o, cpd_e, cpd_h, cpd_g)\n",
    "\n",
    "# check_model checks for the network structure and CPDs and verifies that the CPDs are correctly \n",
    "# defined and sum to 1.\n",
    "model.check_model()\n",
    "\n",
    "\n",
    "infer = VariableElimination(model)\n",
    "print(infer.query(['C'], evidence={'O': 1, 'G': 1}) ['C'])\n",
    "\n",
    "inference = BayesianModelSampling(model)\n",
    "evidence=[State(var='O', state=1), State(var='G', state=1)]\n",
    "print inference.rejection_sample(evidence, 10)\n",
    "\n",
    "\n",
    "plt.figure(figsize=(7, 7))\n",
    "\n",
    "\n",
    "plt.legend()\n",
    "plt.show()\n"
   ]
  },
  {
   "cell_type": "code",
   "execution_count": null,
   "metadata": {
    "collapsed": true
   },
   "outputs": [],
   "source": []
  },
  {
   "cell_type": "code",
   "execution_count": null,
   "metadata": {
    "collapsed": true
   },
   "outputs": [],
   "source": []
  }
 ],
 "metadata": {
  "kernelspec": {
   "display_name": "Python 2",
   "language": "python",
   "name": "python2"
  },
  "language_info": {
   "codemirror_mode": {
    "name": "ipython",
    "version": 2
   },
   "file_extension": ".py",
   "mimetype": "text/x-python",
   "name": "python",
   "nbconvert_exporter": "python",
   "pygments_lexer": "ipython2",
   "version": "2.7.13"
  }
 },
 "nbformat": 4,
 "nbformat_minor": 2
}
